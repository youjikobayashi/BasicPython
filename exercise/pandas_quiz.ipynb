{
  "cells": [
    {
      "cell_type": "markdown",
      "metadata": {
        "id": "XfmMtuxKYRoO"
      },
      "source": [
        "# 【確認課題】Pandas\n",
        "\n",
        "このPandas確認課題は、データサイエンス100本ノックの問題で最低限必要な問題を抜粋したものですが、[Introduction_to_Pandas](./11_Introduction_to_Pandas.ipynb) に掲載されていない機能が必要な問題もあります。\n",
        "初めて触るライブラリを調べながら使うというのはよくある光景です。この課題では皆さんにもそれに挑戦していただきます。  \n",
        "ヒントとして検索キーワードなどを載せておくので、自力で調べながら解いてみましょう。  \n",
        "\n"
      ]
    },
    {
      "cell_type": "markdown",
      "metadata": {
        "id": "9ktBdoeha1jL"
      },
      "source": [
        "## 必要モジュールのインポート\n",
        "\n",
        "この問題で使うモジュールをインポートします．"
      ]
    },
    {
      "cell_type": "code",
      "execution_count": 1,
      "metadata": {
        "id": "2IhABxEEaq19"
      },
      "outputs": [],
      "source": [
        "import pandas as pd\n",
        "import numpy as np"
      ]
    },
    {
      "cell_type": "markdown",
      "metadata": {
        "id": "llLJCZTEa5Rb"
      },
      "source": [
        "## データの読み込み"
      ]
    },
    {
      "cell_type": "code",
      "execution_count": 2,
      "metadata": {
        "id": "uN-SvpE_a50E"
      },
      "outputs": [],
      "source": [
        "df_customer = pd.read_csv('https://raw.githubusercontent.com/The-Japan-DataScientist-Society/100knocks-preprocess/master/docker/work/data/customer.csv')\n",
        "df_product = pd.read_csv('https://raw.githubusercontent.com/The-Japan-DataScientist-Society/100knocks-preprocess/master/docker/work/data/product.csv')\n",
        "df_receipt = pd.read_csv('https://raw.githubusercontent.com/The-Japan-DataScientist-Society/100knocks-preprocess/master/docker/work/data/receipt.csv')"
      ]
    },
    {
      "cell_type": "markdown",
      "metadata": {
        "id": "xm5FMZJobU3Y"
      },
      "source": [
        "---\n",
        "## 問1. 条件抽出\n",
        "> P-006: レシート明細データフレーム「df_receipt」から売上日（sales_ymd）、顧客ID（customer_id）、商品コード（product_cd）、売上数量（quantity）、売上金額（amount）の順に列を指定し、以下の条件を満たすデータを抽出せよ。\n",
        "> - 顧客ID（customer_id）が\"CS018205000001\"\n",
        "> - 売上金額（amount）が1,000以上または売上数量（quantity）が5以上"
      ]
    },
    {
      "cell_type": "code",
      "execution_count": 3,
      "metadata": {
        "colab": {
          "base_uri": "https://localhost:8080/"
        },
        "id": "KSOu6AWabVaD",
        "outputId": "1f647f4e-7e16-48d8-cbb4-64e0b1d1e4e1"
      },
      "outputs": [
        {
          "output_type": "stream",
          "name": "stdout",
          "text": [
            "       sales_ymd     customer_id  product_cd  quantity  amount\n",
            "36      20180911  CS018205000001  P071401012         1    2200\n",
            "9843    20180414  CS018205000001  P060104007         6     600\n",
            "21110   20170614  CS018205000001  P050206001         5     990\n",
            "68117   20190226  CS018205000001  P071401020         1    2200\n",
            "72254   20180911  CS018205000001  P071401005         1    1100\n"
          ]
        }
      ],
      "source": [
        "columns = df_receipt.loc[:,[\"sales_ymd\",\"customer_id\",\"product_cd\",\"quantity\",\"amount\"]]\n",
        "mask = (columns[\"customer_id\"] == \"CS018205000001\") &((columns[\"amount\"] >= 1000 ) | (columns[\"quantity\"] >= 5))\n",
        "print (columns[mask].head())"
      ]
    },
    {
      "cell_type": "markdown",
      "metadata": {
        "id": "7WsKq3Voj0LF"
      },
      "source": [
        "---\n",
        "## 問2. ソート\n",
        "> P-18: 顧客データフレーム（df_customer）を生年月日（birth_day）で若い順にソートし、先頭5件を全項目表示せよ。"
      ]
    },
    {
      "cell_type": "code",
      "execution_count": 4,
      "metadata": {
        "colab": {
          "base_uri": "https://localhost:8080/"
        },
        "id": "uLdYmXgdjxaw",
        "outputId": "a1de271f-3986-4bba-de17-882a632c2ea4"
      },
      "outputs": [
        {
          "output_type": "stream",
          "name": "stdout",
          "text": [
            "          customer_id customer_name  gender_cd gender   birth_day  age  \\\n",
            "15639  CS035114000004         大村 美里          1     女性  2007-11-25   11   \n",
            "7468   CS022103000002        福山 はじめ          9     不明  2007-10-02   11   \n",
            "10745  CS002113000009        柴田 真悠子          1     女性  2007-09-17   11   \n",
            "19811  CS004115000014         松井 京子          1     女性  2007-08-09   11   \n",
            "7039   CS002114000010          山内 遥          1     女性  2007-06-03   11   \n",
            "\n",
            "      postal_cd                address application_store_cd  application_date  \\\n",
            "15639  156-0053     東京都世田谷区桜**********               S13035          20150619   \n",
            "7468   249-0006    神奈川県逗子市逗子**********               S14022          20160909   \n",
            "10745  184-0014  東京都小金井市貫井南町**********               S13002          20160304   \n",
            "19811  165-0031    東京都中野区上鷺宮**********               S13004          20161120   \n",
            "7039   184-0015  東京都小金井市貫井北町**********               S13002          20160920   \n",
            "\n",
            "          status_cd  \n",
            "15639  6-20091205-6  \n",
            "7468   0-00000000-0  \n",
            "10745  0-00000000-0  \n",
            "19811  1-20081231-1  \n",
            "7039   6-20100510-1  \n"
          ]
        }
      ],
      "source": [
        "print (df_customer.sort_values(by=\"birth_day\",ascending = False).head(5))"
      ]
    },
    {
      "cell_type": "markdown",
      "metadata": {
        "id": "1lRGtDSphhyQ"
      },
      "source": [
        "---\n",
        "## 問3. 全件数\n",
        "> P-021: レシート明細データフレーム（df_receipt）に対し、件数をカウントせよ。"
      ]
    },
    {
      "cell_type": "code",
      "execution_count": 5,
      "metadata": {
        "colab": {
          "base_uri": "https://localhost:8080/"
        },
        "id": "m-ihL_fVhhyQ",
        "outputId": "b0d72dc8-a96c-44e3-d0e9-d37b04a3edfc"
      },
      "outputs": [
        {
          "output_type": "stream",
          "name": "stdout",
          "text": [
            "104681\n"
          ]
        }
      ],
      "source": [
        "print (len(df_receipt))"
      ]
    },
    {
      "cell_type": "markdown",
      "metadata": {
        "id": "MkjDW-oyhhyS"
      },
      "source": [
        "## 問4. ユニーク件数\n",
        "> P-022: レシート明細データフレーム（df_receipt）の顧客ID（customer_id）に対し、ユニーク件数をカウントせよ。"
      ]
    },
    {
      "cell_type": "code",
      "execution_count": 6,
      "metadata": {
        "colab": {
          "base_uri": "https://localhost:8080/"
        },
        "id": "0xSI9r8UhhyS",
        "outputId": "1bab73d0-5d08-417e-c1ce-d164895fed94"
      },
      "outputs": [
        {
          "output_type": "stream",
          "name": "stdout",
          "text": [
            "8307\n"
          ]
        }
      ],
      "source": [
        "unique_count = df_receipt[\"customer_id\"].nunique()\n",
        "print (unique_count)"
      ]
    },
    {
      "cell_type": "markdown",
      "metadata": {
        "id": "t-c_QqhcvfM-"
      },
      "source": [
        "<details>\n",
        "<summary>ヒント</summary>\n",
        "「ユニーク」というのはそのまま検索に使える単語です。  \n",
        "</details>"
      ]
    },
    {
      "cell_type": "markdown",
      "metadata": {
        "id": "h9E9b_yUhhyq"
      },
      "source": [
        "---\n",
        "## 問5. 〇〇ごとに集計\n",
        "> P-035: レシート明細データフレーム（df_receipt）に対し、顧客ID（customer_id）ごとに売上金額（amount）を合計して全顧客の平均を求め、平均以上に買い物をしている顧客を抽出せよ。ただし、顧客IDが\"Z\"から始まるのものは非会員を表すため、除外して計算すること。なお、データは先頭5件だけ表示せよ。\n",
        "\n",
        "会員のみを抽出する方法は、例えば以下の2通りの方法があります。"
      ]
    },
    {
      "cell_type": "code",
      "execution_count": 7,
      "metadata": {
        "id": "oEPshkQlvfM-"
      },
      "outputs": [],
      "source": [
        "df_receipt_only_member = df_receipt[~df_receipt[\"customer_id\"].str.startswith(\"Z\")]\n",
        "df_receipt_only_member = df_receipt.query(\"not customer_id.str.startswith('Z')\", engine=\"python\")"
      ]
    },
    {
      "cell_type": "code",
      "execution_count": 8,
      "metadata": {
        "colab": {
          "base_uri": "https://localhost:8080/"
        },
        "id": "7lYKkmsohhyq",
        "outputId": "f3fbe5d9-8db8-48e1-ff32-0f8e2789784a"
      },
      "outputs": [
        {
          "output_type": "stream",
          "name": "stdout",
          "text": [
            "customer_id\n",
            "CS001115000010    3044\n",
            "CS001205000006    3337\n",
            "CS001214000009    4685\n",
            "CS001214000017    4132\n",
            "CS001214000052    5639\n",
            "Name: amount, dtype: int64\n"
          ]
        }
      ],
      "source": [
        "amount_per_customer = df_receipt_only_member.groupby(\"customer_id\")[\"amount\"].sum()\n",
        "print(amount_per_customer[amount_per_customer.mean() <= amount_per_customer].head())"
      ]
    },
    {
      "cell_type": "markdown",
      "metadata": {
        "id": "1US4cDbrvfM-"
      },
      "source": [
        "<details>\n",
        "<summary>ヒント1</summary>\n",
        "「pandas 要素ごと 集計」 などで今回使える機能に関する記事が見つかります。\n",
        "</details>"
      ]
    },
    {
      "cell_type": "markdown",
      "metadata": {
        "id": "zkmjkkvAvfM-"
      },
      "source": [
        "<details>\n",
        "<summary>ヒント2</summary>\n",
        "メソッド名は \"groupby\" です。\n",
        "</details>"
      ]
    },
    {
      "cell_type": "markdown",
      "metadata": {
        "id": "iNO7ESvWhhyw"
      },
      "source": [
        "---\n",
        "## 問6. DataFrameの結合\n",
        "> P-038: 顧客データフレーム（df_customer）とレシート明細データフレーム（df_receipt）から、各顧客ごとの売上金額合計を求めよ。ただし、買い物の実績がない顧客については売上金額を0として表示させること。また、顧客は性別コード（gender_cd）が女性（1）であるものを対象とし、非会員（顧客IDが'Z'から始まるもの）は除外すること。なお、結果は先頭5件だけ表示せよ。"
      ]
    },
    {
      "cell_type": "code",
      "execution_count": 9,
      "metadata": {
        "id": "J3KuABDmvfM_"
      },
      "outputs": [],
      "source": [
        "df_customer_only_member = df_customer[~df_customer[\"customer_id\"].str.startswith(\"Z\")]\n",
        "df_customer_only_member = df_customer.query(\"not customer_id.str.startswith('Z')\", engine=\"python\")"
      ]
    },
    {
      "cell_type": "code",
      "execution_count": 10,
      "metadata": {
        "colab": {
          "base_uri": "https://localhost:8080/"
        },
        "id": "hmc6LUaEhhyw",
        "outputId": "d8ee6492-eb38-4131-e1f1-9ec892168bbc"
      },
      "outputs": [
        {
          "output_type": "stream",
          "name": "stdout",
          "text": [
            "      customer_id customer_name  gender_cd gender   birth_day   age postal_cd  \\\n",
            "0  CS021313000114        大野 あや子        1.0     女性  1981-04-29  37.0  259-1113   \n",
            "1  CS031415000172       宇多田 貴美子        1.0     女性  1976-10-04  42.0  151-0053   \n",
            "2  CS028811000001        堀井 かおり        1.0     女性  1933-03-27  86.0  245-0016   \n",
            "3  CS001215000145         田崎 美紀        1.0     女性  1995-03-29  24.0  144-0055   \n",
            "4  CS015414000103         奥野 陽子        1.0     女性  1977-08-09  41.0  136-0073   \n",
            "\n",
            "                  address application_store_cd  application_date  \\\n",
            "0    神奈川県伊勢原市粟窪**********               S14021        20150905.0   \n",
            "1     東京都渋谷区代々木**********               S13031        20150529.0   \n",
            "2  神奈川県横浜市泉区和泉町**********               S14028        20160115.0   \n",
            "3     東京都大田区仲六郷**********               S13001        20170605.0   \n",
            "4      東京都江東区北砂**********               S13015        20150722.0   \n",
            "\n",
            "      status_cd  amount  \n",
            "0  0-00000000-0     0.0  \n",
            "1  D-20100325-C  5088.0  \n",
            "2  0-00000000-0     0.0  \n",
            "3  6-20090929-2   875.0  \n",
            "4  B-20100609-B  3122.0  \n"
          ]
        }
      ],
      "source": [
        "df_female_member = df_customer_only_member.query(\"gender_cd == 1\")\n",
        "profit_sum_only_member = df_receipt.groupby(\"customer_id\")[\"amount\"].sum()\n",
        "merge_genj_profitsum= pd.merge(df_female_member,profit_sum_only_member,on=\"customer_id\",how=\"outer\")\n",
        "print(merge_genj_profitsum.fillna(0).head())"
      ]
    },
    {
      "cell_type": "markdown",
      "metadata": {
        "id": "O0P5NUSVvfM_"
      },
      "source": [
        "<details>\n",
        "<summary>ヒント1</summary>\n",
        "タイトル通り 「pandas DataFrame 結合」などと調べれば必要な機能に関する記事が見つかります。  \n",
        "</details>\n"
      ]
    },
    {
      "cell_type": "markdown",
      "metadata": {
        "id": "Bo2ZwNzYvfM_"
      },
      "source": [
        "<details>\n",
        "<summary>ヒント2</summary>\n",
        "\"merge\", \"join\"という似たメソッドがあります。  \n",
        "今回の場合\"merge\"が便利でしょう。\n",
        "</details>"
      ]
    },
    {
      "cell_type": "markdown",
      "metadata": {
        "id": "umDmd8kohhzA"
      },
      "source": [
        "---\n",
        "## 問7. 時系列データ\n",
        "> P-046: 顧客データフレーム（df_customer）の申し込み日（application_date）はYYYYMMD形式の文字列型でデータを保有している。これを日付型（dateやdatetime）に変換し、顧客ID（customer_id）とともに抽出せよ。なお、データは先頭5件を表示せよ。"
      ]
    },
    {
      "cell_type": "code",
      "execution_count": 11,
      "metadata": {
        "colab": {
          "base_uri": "https://localhost:8080/"
        },
        "id": "pVAxV-TWhhzA",
        "outputId": "3bdbac7a-cb9f-4309-ec3b-100d262060d6"
      },
      "outputs": [
        {
          "output_type": "stream",
          "name": "stdout",
          "text": [
            "      customer_id application_date\n",
            "0  CS021313000114       2015-09-05\n",
            "1  CS037613000071       2015-04-14\n",
            "2  CS031415000172       2015-05-29\n",
            "3  CS028811000001       2016-01-15\n",
            "4  CS001215000145       2017-06-05\n"
          ]
        }
      ],
      "source": [
        "df_customer[\"application_date\"] = pd.to_datetime(df_customer[\"application_date\"],format= \"%Y%m%d\")\n",
        "print(df_customer[[\"customer_id\",\"application_date\"]].head())"
      ]
    },
    {
      "cell_type": "markdown",
      "metadata": {
        "id": "Pyzmt2BFvfM_"
      },
      "source": [
        "<details>\n",
        "<summary>ヒント1</summary>\n",
        "「pandas datetime」などで該当の機能が見つかるかと思います。\n",
        "</details>\n"
      ]
    },
    {
      "cell_type": "markdown",
      "metadata": {
        "id": "Gvac46k6vfM_"
      },
      "source": [
        "<details>\n",
        "<summary>ヒント2</summary>\n",
        "\"pd.to_datetime\"というメソッドが使えるでしょう。このメソッドを適用する際ですが、for文を使わずに実装しましょう。"
      ]
    },
    {
      "cell_type": "markdown",
      "metadata": {
        "id": "9v_q6BLjhhzU"
      },
      "source": [
        "---\n",
        "## 問8. 関数\n",
        "> P-061: レシート明細データフレーム（df_receipt）の売上金額（amount）を顧客ID（customer_id）ごとに合計し、合計した売上金額を常用対数化（底=10）して顧客ID、売上金額合計とともに表示せよ。ただし、顧客IDが\"Z\"から始まるのものは非会員を表すため、除外して計算すること。なお、結果は先頭5件を表示せよ。"
      ]
    },
    {
      "cell_type": "code",
      "execution_count": 12,
      "metadata": {
        "colab": {
          "base_uri": "https://localhost:8080/"
        },
        "id": "d5_2HQ-2hhzU",
        "outputId": "4c1a7d4e-3f3a-4276-8f28-eb689e3e93c4"
      },
      "outputs": [
        {
          "output_type": "stream",
          "name": "stdout",
          "text": [
            "                log_amount  amount\n",
            "customer_id                       \n",
            "CS001113000004    3.113275    1298\n",
            "CS001114000005    2.796574     626\n",
            "CS001115000010    3.483445    3044\n",
            "CS001205000004    3.298416    1988\n",
            "CS001205000006    3.523356    3337\n"
          ]
        }
      ],
      "source": [
        "df_receipt_only_member = df_receipt[~df_receipt[\"customer_id\"].str.startswith(\"Z\")]\n",
        "sum_only_member = df_receipt_only_member.groupby(\"customer_id\").sum()\n",
        "sum_only_member[\"log_amount\"] = np.log10(sum_only_member[\"amount\"])\n",
        "print(sum_only_member[[\"log_amount\",\"amount\"]].head())"
      ]
    },
    {
      "cell_type": "markdown",
      "metadata": {
        "id": "boe923CMhhzq"
      },
      "source": [
        "---\n",
        "## 問9. 欠損数\n",
        "> P-079: 商品データフレーム（df_product）の各項目に対し、欠損数を確認せよ。"
      ]
    },
    {
      "cell_type": "code",
      "execution_count": 13,
      "metadata": {
        "colab": {
          "base_uri": "https://localhost:8080/"
        },
        "id": "bxl__vC5hhzq",
        "outputId": "1784e26e-d0b3-4450-b9ed-b93a8f03ff0c"
      },
      "outputs": [
        {
          "output_type": "stream",
          "name": "stdout",
          "text": [
            "product_cd            0\n",
            "category_major_cd     0\n",
            "category_medium_cd    0\n",
            "category_small_cd     0\n",
            "unit_price            7\n",
            "unit_cost             7\n",
            "dtype: int64\n"
          ]
        }
      ],
      "source": [
        "print(df_product.isnull().sum())"
      ]
    },
    {
      "cell_type": "markdown",
      "metadata": {
        "id": "afprSqIvhhzs"
      },
      "source": [
        "---\n",
        "## 問10. 欠損値の除去\n",
        "> P-080: 商品データフレーム（df_product）のいずれかの項目に欠損が発生しているレコードを全て削除した新たなdf_product_1を作成せよ。なお、削除前後の件数を表示させ、前設問で確認した件数だけ減少していることも確認すること。"
      ]
    },
    {
      "cell_type": "code",
      "execution_count": 14,
      "metadata": {
        "id": "q3_9sLdHhhzt"
      },
      "outputs": [],
      "source": [
        "df_product_1 = df_product.dropna()"
      ]
    },
    {
      "cell_type": "code",
      "execution_count": 15,
      "metadata": {
        "colab": {
          "base_uri": "https://localhost:8080/"
        },
        "id": "qFNnYstw1vTG",
        "outputId": "99abbb31-3592-4fff-d097-7ba1b34938f5"
      },
      "outputs": [
        {
          "output_type": "stream",
          "name": "stdout",
          "text": [
            "10030 10023\n"
          ]
        }
      ],
      "source": [
        "print(len(df_product), len(df_product_1))"
      ]
    },
    {
      "cell_type": "markdown",
      "metadata": {
        "id": "GtiO20ZKhhzu"
      },
      "source": [
        "---\n",
        "## 問11. 欠損値の穴埋め\n",
        "> P-081: 単価（unit_price）と原価（unit_cost）の欠損値について、それぞれの平均値で補完した新たなdf_product_2を作成せよ。なお、平均値について1円未満は四捨五入とせよ。補完実施後、各項目について欠損が生じていないことも確認すること。"
      ]
    },
    {
      "cell_type": "code",
      "execution_count": 16,
      "metadata": {
        "colab": {
          "base_uri": "https://localhost:8080/"
        },
        "id": "puFf-7Ewhhzu",
        "outputId": "5568d088-1e27-4514-d6f7-d3d962354dab"
      },
      "outputs": [
        {
          "output_type": "stream",
          "name": "stdout",
          "text": [
            "product_cd            0\n",
            "category_major_cd     0\n",
            "category_medium_cd    0\n",
            "category_small_cd     0\n",
            "unit_price            0\n",
            "unit_cost             0\n",
            "dtype: int64\n"
          ]
        }
      ],
      "source": [
        "mean = np.round(df_product.mean(numeric_only=True))\n",
        "df_product_2 = df_product_1.fillna(mean)\n",
        "print(df_product_2.isnull().sum())"
      ]
    },
    {
      "cell_type": "markdown",
      "metadata": {
        "id": "PpKJ8polvfNB"
      },
      "source": [
        "### 余談\n",
        "ChatGPTやBing AIに聞けば大抵のことは教えてくれます。  \n",
        "何回か入力文章を吟味しないといけないこともありますが、知らないことを調べる場合は自分で検索するよりも早いです。  \n",
        "ただ、ChatGPTなどは嘘をつく場合があるので、自分でソースを参照する姿勢は必要です。  \n",
        "\n",
        "これはBingAIの回答例です。\n",
        "\n",
        "![BingAIの回答例](https://github.com/shinonome-inc/PythonTutorialForDSCourse/blob/main/exercise/images/BingAI.png?raw=1)"
      ]
    }
  ],
  "metadata": {
    "colab": {
      "name": "pandas_quiz.ipynb",
      "provenance": []
    },
    "kernelspec": {
      "display_name": "Python 3",
      "language": "python",
      "name": "python3"
    },
    "language_info": {
      "codemirror_mode": {
        "name": "ipython",
        "version": 3
      },
      "file_extension": ".py",
      "mimetype": "text/x-python",
      "name": "python",
      "nbconvert_exporter": "python",
      "pygments_lexer": "ipython3",
      "version": "3.7.4"
    }
  },
  "nbformat": 4,
  "nbformat_minor": 0
}